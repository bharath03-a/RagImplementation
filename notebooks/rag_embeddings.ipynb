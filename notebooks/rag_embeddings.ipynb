{
 "cells": [
  {
   "cell_type": "code",
   "execution_count": 22,
   "metadata": {},
   "outputs": [],
   "source": [
    "import warnings\n",
    "warnings.filterwarnings(\"ignore\")"
   ]
  },
  {
   "cell_type": "code",
   "execution_count": 23,
   "metadata": {},
   "outputs": [],
   "source": [
    "import pandas as pd\n",
    "import numpy as np\n",
    "\n",
    "from qdrant_client import models, QdrantClient\n",
    "from sentence_transformers import SentenceTransformer"
   ]
  },
  {
   "cell_type": "markdown",
   "metadata": {},
   "source": [
    "### Sentence Transformer\n",
    "\n",
    "Sentence Transformers (a.k.a. SBERT) is the go-to Python module for accessing, using, and training state-of-the-art text and image embedding models. Characteristics of Sentence Transformer (a.k.a bi-encoder) models:\n",
    "\n",
    "1) Calculates a fixed-size vector representation (embedding) given texts or images.\n",
    "2) Embedding calculation is often efficient, embedding similarity calculation is very fast.\n",
    "3) Applicable for a wide range of tasks, such as semantic textual similarity, semantic search, clustering, classification, paraphrase mining, and more.\n",
    "4) Often used as a first step in a two-step retrieval process, where a Cross-Encoder (a.k.a. reranker) model is used to re-rank the top-k results from the bi-encoder.\n",
    "\n",
    "https://sbert.net/index.html\n",
    "\n"
   ]
  },
  {
   "cell_type": "code",
   "execution_count": 24,
   "metadata": {},
   "outputs": [],
   "source": [
    "# creating embedding model from sentence transformer for getting the embeddings of the text\n",
    "\n",
    "txt_embedder = SentenceTransformer(\"all-MiniLM-L6-v2\")"
   ]
  },
  {
   "cell_type": "code",
   "execution_count": 25,
   "metadata": {},
   "outputs": [
    {
     "name": "stdout",
     "output_type": "stream",
     "text": [
      "Embedding model size: 384\n"
     ]
    }
   ],
   "source": [
    "print(f\"Embedding model size: {txt_embedder.get_sentence_embedding_dimension()}\")"
   ]
  },
  {
   "cell_type": "markdown",
   "metadata": {},
   "source": [
    "### Qdrant setup\n",
    "\n",
    "Qdrant (read: quadrant) is a vector similarity search engine and vector database. It provides a production-ready service with a convenient API to store, search, and manage points—vectors with an additional payload Qdrant is tailored to extended filtering support. It makes it useful for all sorts of neural-network or semantic-based matching, faceted search, and other applications."
   ]
  },
  {
   "cell_type": "code",
   "execution_count": 26,
   "metadata": {},
   "outputs": [],
   "source": [
    "# creating the vector database client using qdrant\n",
    "\n",
    "qdrant = QdrantClient(\":memory:\")"
   ]
  },
  {
   "cell_type": "code",
   "execution_count": 27,
   "metadata": {},
   "outputs": [
    {
     "data": {
      "text/plain": [
       "True"
      ]
     },
     "execution_count": 27,
     "metadata": {},
     "output_type": "execute_result"
    }
   ],
   "source": [
    "# creating Qdrant Collection to store the data\n",
    "\n",
    "qdrant.recreate_collection(\n",
    "    collection_name=\"clinical_notes\",\n",
    "    vectors_config=models.VectorParams(\n",
    "        size=txt_embedder.get_sentence_embedding_dimension(),\n",
    "        distance=models.Distance.COSINE\n",
    "    )\n",
    ")"
   ]
  },
  {
   "cell_type": "markdown",
   "metadata": {},
   "source": [
    "### Data Loading"
   ]
  },
  {
   "cell_type": "code",
   "execution_count": 28,
   "metadata": {},
   "outputs": [],
   "source": [
    "notes_data = pd.read_csv(\"../data/train.csv\")"
   ]
  },
  {
   "cell_type": "code",
   "execution_count": 29,
   "metadata": {},
   "outputs": [
    {
     "name": "stdout",
     "output_type": "stream",
     "text": [
      "<class 'pandas.core.frame.DataFrame'>\n",
      "RangeIndex: 10822 entries, 0 to 10821\n",
      "Data columns (total 3 columns):\n",
      " #   Column  Non-Null Count  Dtype \n",
      "---  ------  --------------  ----- \n",
      " 0   ID      10822 non-null  int64 \n",
      " 1   Note    10822 non-null  object\n",
      " 2   json    10822 non-null  object\n",
      "dtypes: int64(1), object(2)\n",
      "memory usage: 253.8+ KB\n"
     ]
    }
   ],
   "source": [
    "notes_data.info()"
   ]
  },
  {
   "cell_type": "code",
   "execution_count": 30,
   "metadata": {},
   "outputs": [
    {
     "data": {
      "text/plain": [
       "ID      0\n",
       "Note    0\n",
       "json    0\n",
       "dtype: int64"
      ]
     },
     "execution_count": 30,
     "metadata": {},
     "output_type": "execute_result"
    }
   ],
   "source": [
    "notes_data.isnull().sum()"
   ]
  },
  {
   "cell_type": "code",
   "execution_count": 31,
   "metadata": {},
   "outputs": [
    {
     "data": {
      "text/plain": [
       "np.int64(0)"
      ]
     },
     "execution_count": 31,
     "metadata": {},
     "output_type": "execute_result"
    }
   ],
   "source": [
    "notes_data.duplicated().sum()"
   ]
  },
  {
   "cell_type": "code",
   "execution_count": 32,
   "metadata": {},
   "outputs": [],
   "source": [
    "rag_notes = notes_data.sample(1000).to_dict(\"records\")"
   ]
  },
  {
   "cell_type": "code",
   "execution_count": 33,
   "metadata": {},
   "outputs": [
    {
     "name": "stdout",
     "output_type": "stream",
     "text": [
      "Length of the data : 1000\n"
     ]
    }
   ],
   "source": [
    "print(f\"Length of the data : {len(rag_notes)}\")"
   ]
  },
  {
   "cell_type": "markdown",
   "metadata": {},
   "source": [
    "### Vectorize"
   ]
  },
  {
   "cell_type": "code",
   "execution_count": 34,
   "metadata": {},
   "outputs": [],
   "source": [
    "qdrant.upload_points(\n",
    "    collection_name=\"clinical_notes\",\n",
    "    points=[\n",
    "        models.PointStruct(\n",
    "            id=d[\"ID\"],\n",
    "            vector=txt_embedder.encode(d[\"Note\"]).tolist(),\n",
    "            payload=d\n",
    "        ) for d in rag_notes\n",
    "    ]\n",
    ")"
   ]
  },
  {
   "cell_type": "code",
   "execution_count": 35,
   "metadata": {},
   "outputs": [],
   "source": [
    "search_prompt = \"I am suffering from fever, suggest what I can do as a remedy in the next two days.\""
   ]
  },
  {
   "cell_type": "code",
   "execution_count": 36,
   "metadata": {},
   "outputs": [],
   "source": [
    "# searching for some clinical suggestions\n",
    "\n",
    "hits = qdrant.search(\n",
    "    collection_name=\"clinical_notes\",\n",
    "    query_vector=txt_embedder.encode(search_prompt).tolist(),\n",
    "    query_filter=models.Filter(\n",
    "        must=[\n",
    "            models.FieldCondition(\n",
    "                key='ID',\n",
    "                range=models.Range(lte=1000))\n",
    "                ]),\n",
    "    limit=3\n",
    ")"
   ]
  },
  {
   "cell_type": "code",
   "execution_count": 37,
   "metadata": {},
   "outputs": [
    {
     "name": "stdout",
     "output_type": "stream",
     "text": [
      "{'ID': 944, 'Note': 'Clinical Note:\\n\\nPatient: 15-year-old female\\nChief Complaint: Influenza-like symptoms\\n\\nHistory of Present Illness:\\nThe patient, a 15-year-old female, presents to the clinic with complaints of flu-like symptoms. She reports experiencing fever, fatigue, headache, and joint pain. Additionally, the patient mentions frequent urination and dry skin, which are not typical flu symptoms.\\n\\nReview of Systems:\\n- General: Positive for fever and fatigue\\n- Neurological: Positive for headache\\n- Musculoskeletal: Positive for joint pain\\n- Urinary: Frequent urination\\n- Skin: Dry skin\\n\\nPhysical Examination:\\n- Vital Signs:\\n  Temperature: 39.4°C (elevated)\\n  Heart Rate: 122 bpm (tachycardic)\\n  Respiratory Rate: 14 breaths/min (within normal range)\\n- General: Patient appears fatigued and uncomfortable\\n- Skin: Dry, warm to touch\\n- HEENT: No notable abnormalities\\n- Cardiovascular: Tachycardic, regular rhythm, no murmurs\\n- Respiratory: Clear lung sounds bilaterally\\n- Musculoskeletal: No visible joint swelling or redness\\n\\nLaboratory Results:\\n- Cholesterol Level: 135.1 mg/dL (within normal range)\\n- Glucose Level: 138.8 mg/dL (slightly elevated)\\n\\nAssessment and Plan:\\nThe patient presents with symptoms consistent with influenza, including high fever, fatigue, headache, and joint pain. However, the presence of frequent urination, dry skin, and elevated glucose levels raise concern for possible underlying diabetes mellitus. The tachycardia is likely due to the fever and possible dehydration.\\n\\n1. Influenza:\\n   - Recommend rest and increased fluid intake\\n   - Prescribe oseltamivir (Tamiflu) for antiviral treatment\\n   - Advise on over-the-counter pain relievers and fever reducers\\n\\n2. Possible Diabetes Mellitus:\\n   - Order fasting blood glucose and HbA1c tests\\n   - Educate patient on signs and symptoms of diabetes\\n   - Schedule follow-up appointment to discuss results and potential management\\n\\n3. Dehydration:\\n   - Encourage oral rehydration\\n   - Educate on importance of fluid intake, especially during illness\\n\\n4. Follow-up:\\n   - Schedule appointment in 1 week to reassess symptoms and review lab results\\n   - Instruct patient to return sooner if symptoms worsen or new symptoms develop\\n\\nThe patient and family were counseled on the assessment and plan. All questions were answered, and they verbalized understanding.', 'json': '{\"patient_info\": {\"age\": 15, \"gender\": \"Female\"}, \"visit_motivation\": \"Influenza (Flu)\", \"symptoms\": [\"fever\", \"fatigue\", \"headache\", \"joint_pain\", \"frequent_urination\", \"dry_skin\"], \"vital_signs\": {\"temperature\": {\"value\": 39.4, \"unit\": \"\\\\u00b0C\"}, \"heart_rate\": {\"value\": 122, \"unit\": \"bpm\"}, \"respiratory_rate\": {\"value\": 14, \"unit\": \"breaths/min\"}, \"cholesterol_level\": {\"value\": 135.1, \"unit\": \"mg/dL\"}, \"glucose_level\": {\"value\": 138.8, \"unit\": \"mg/dL\"}}}'} score: 0.41005932701022824\n",
      "{'ID': 105, 'Note': \"**Clinical Notes:**\\n\\n**Patient Information:**\\n- Age: 19\\n- Gender: Male\\n\\n**Visit Motivation:**\\n- The patient presented with complaints of ear infection (Otitis Media).\\n\\n**Symptoms:**\\n- The patient reports experiencing the following symptoms:\\n  - Headache\\n  - Sore throat\\n  - Diarrhea\\n  - Rash\\n  - Joint pain\\n  - Itchy eyes\\n  - Night sweats\\n  - Anxiety\\n\\n**Vital Signs:**\\n- Temperature: 37.3 °C (within normal range)\\n- Cholesterol Level: 129.1 mg/dL (within normal range)\\n- Glucose Level: 84.5 mg/dL (within normal range)\\n\\n**Assessment:**\\nThe patient’s primary complaint of ear infection is accompanied by a constellation of symptoms including headache, sore throat, and joint pain, which may suggest a systemic viral or bacterial infection. The presence of rash and itchy eyes raises the suspicion for an allergic reaction or viral exanthem. Diarrhea, night sweats, and anxiety may indicate a more systemic issue, possibly involving a viral illness. \\n\\nGiven the patient's age and the array of symptoms, infectious mononucleosis or another viral syndrome should be considered. The vital signs are stable, and no acute distress is noted.\\n\\n**Plan:**\\n- Further evaluation of the ear with otoscopic examination.\\n- Consideration for lab tests including a rapid strep test and monospot test.\\n- Symptomatic treatment for headache and sore throat.\\n- Discussion about hydration for diarrhea and reassurance regarding anxiety.\\n- Follow-up appointment as needed based on test results and symptom progression.\", 'json': '{\"patient_info\": {\"age\": 19, \"gender\": \"Male\"}, \"visit_motivation\": \"Ear Infection (Otitis Media)\", \"symptoms\": [\"headache\", \"sore_throat\", \"diarrhea\", \"rash\", \"joint_pain\", \"itchy_eyes\", \"night_sweats\", \"anxiety\"], \"vital_signs\": {\"temperature\": {\"value\": 37.3, \"unit\": \"\\\\u00b0C\"}, \"cholesterol_level\": {\"value\": 129.1, \"unit\": \"mg/dL\"}, \"glucose_level\": {\"value\": 84.5, \"unit\": \"mg/dL\"}}}'} score: 0.3831114597594219\n",
      "{'ID': 546, 'Note': \"**Clinical Notes:**\\n\\n**Patient Information:**\\n- **Age:** 46\\n- **Gender:** Male\\n\\n**Visit Motivation:**\\n- Patient presents with complaints suggestive of sinusitis.\\n\\n**Symptoms:**\\n- The patient reports experiencing fever, headache, nausea, runny nose, joint pain, dizziness, itchy eyes, blurred vision, painful urination, facial pain, heartburn, ear pain, restlessness, and difficulty concentrating.\\n\\n**Vital Signs:**\\n- **Temperature:** 36.9°C (within normal range)\\n- **Heart Rate:** 61 bpm (bradycardia; normal range is 60-100 bpm)\\n- **Respiratory Rate:** 19 breaths/min (within normal range)\\n- **Glucose Level:** 87.7 mg/dL (within normal range)\\n\\n**Assessment:**\\nThe patient's symptoms, including fever, facial pain, and runny nose, are indicative of acute sinusitis. The presence of joint pain, dizziness, and restlessness may suggest a systemic involvement or possible viral etiology. The patient’s bradycardia (heart rate of 61 bpm) is noted; while it is at the lower limit of normal, it may also reflect a response to systemic illness or dehydration. The additional symptoms of painful urination and heartburn warrant further investigation into possible urinary tract infection or gastrointestinal issues.\\n\\n**Plan:**\\n- Conduct further diagnostic tests including nasal swab and urinalysis.\\n- Consider prescribing antihistamines for itchy eyes and decongestants for sinus relief.\\n- Educate the patient on symptom management and advise hydration.\\n- Schedule a follow-up appointment to reassess symptoms and vital signs.\", 'json': '{\"patient_info\": {\"age\": 46, \"gender\": \"Male\"}, \"visit_motivation\": \"Sinusitis\", \"symptoms\": [\"fever\", \"headache\", \"nausea\", \"runny_nose\", \"joint_pain\", \"dizziness\", \"itchy_eyes\", \"blurred_vision\", \"painful_urination\", \"facial_pain\", \"heartburn\", \"ear_pain\", \"restlessness\", \"difficulty_concentrating\"], \"vital_signs\": {\"temperature\": {\"value\": 36.9, \"unit\": \"\\\\u00b0C\"}, \"heart_rate\": {\"value\": 61, \"unit\": \"bpm\"}, \"respiratory_rate\": {\"value\": 19, \"unit\": \"breaths/min\"}, \"glucose_level\": {\"value\": 87.7, \"unit\": \"mg/dL\"}}}'} score: 0.37675809783592307\n"
     ]
    }
   ],
   "source": [
    "for hit in hits:\n",
    "  print(hit.payload, \"score:\", hit.score)"
   ]
  },
  {
   "cell_type": "markdown",
   "metadata": {},
   "source": [
    "### Integrating RAG with LLAMA"
   ]
  },
  {
   "cell_type": "code",
   "execution_count": 38,
   "metadata": {},
   "outputs": [],
   "source": [
    "# defining the search results\n",
    "search_results = [hit.payload for hit in hits]"
   ]
  },
  {
   "cell_type": "code",
   "execution_count": 46,
   "metadata": {},
   "outputs": [],
   "source": [
    "assistant_content = (\n",
    "    \"Based on the search results, here is some information:\\n\" +\n",
    "    \"\\n\".join([str(item) for item in search_results])\n",
    ")"
   ]
  },
  {
   "cell_type": "code",
   "execution_count": 47,
   "metadata": {},
   "outputs": [],
   "source": [
    "import ollama"
   ]
  },
  {
   "cell_type": "code",
   "execution_count": 48,
   "metadata": {},
   "outputs": [],
   "source": [
    "chat_completion = ollama.chat(\n",
    "    model=\"llama3.2:latest\",\n",
    "    messages=[\n",
    "        {\n",
    "            \"role\": \"system\",\n",
    "            \"content\": (\n",
    "                \"You are a clinical notes specialist. Your job is to provide actionable suggestions to users' medical queries \"\n",
    "                \"based on the provided notes. Be concise and specific, and avoid returning any code or unrelated content.\"\n",
    "            )\n",
    "        },\n",
    "        {\n",
    "            \"role\": \"user\",\n",
    "            \"content\": (\n",
    "                \"I am suffering from fever, fatigue, headache, and joint pain. Based on the provided clinical notes, \"\n",
    "                \"what should I do as a remedy in the next two days?\"\n",
    "            )\n",
    "        },\n",
    "        {\n",
    "            \"role\": \"assistant\",\n",
    "            \"content\": assistant_content\n",
    "        }\n",
    "    ]\n",
    ")"
   ]
  },
  {
   "cell_type": "code",
   "execution_count": 49,
   "metadata": {},
   "outputs": [
    {
     "name": "stdout",
     "output_type": "stream",
     "text": [
      "LLM Response Content:\n",
      "}\n",
      "{'ID': 123, 'Note': \"**Clinical Notes:**\\n\\n**Patient Information:**\\n- **Age:** 25\\n- **Gender:** Female\\n\\n**Visit Motivation:**\\n- Patient presents with complaints suggestive of bronchitis.\\n\\n**Symptoms:**\\n- The patient reports experiencing fever, cough, shortness of breath, chest pain, fatigue, headache, nausea, runny nose, sore throat, joint pain, dizziness, and itchy eyes.\\n\\n**Vital Signs:**\\n- **Temperature:** 37.1°C (within normal range)\\n- **Heart Rate:** 74 bpm (normal range is 60-100 bpm)\\n- **Respiratory Rate:** 22 breaths/min (normal range is 12-20 breaths/min)\\n- **Glucose Level:** 92 mg/dL (slightly elevated; normal range is 70-110 mg/dL)\\n\\n**Assessment:**\\nThe patient’s symptoms, including fever, cough, and shortness of breath, are indicative of acute bronchitis. The presence of joint pain and itchy eyes may suggest a systemic involvement or possible viral etiology. The slightly elevated glucose level warrants further investigation into possible underlying diabetes or metabolic issues.\\n\\n**Plan:**\\n- Conduct further diagnostic tests including pulmonary function test (PFT) and blood work to rule out underlying conditions like diabetes or respiratory infections.\\n- Prescribe an inhaler for bronchitis management and recommend hydration.\\n- Schedule a follow-up appointment to reassess symptoms, vital signs, and results of diagnostic tests.\", 'json': '{\"patient_info\": {\"age\": 25, \"gender\": \"Female\"}, \"visit_motivation\": \"Bronchitis\", \"symptoms\": [\"fever\", \"cough\", \"shortness_of_breath\", \"chest_pain\", \"fatigue\", \"headache\", \"nausea\", \"runny_nose\", \"sore_throat\", \"joint_pain\", \"dizziness\", \"itchy_eyes\"], \"vital_signs\": {\"temperature\": {\"value\": 37.1, \"unit\": \"\\\\u00b0C\"}, \"heart_rate\": {\"value\": 74, \"unit\": \"bpm\"}, \"respiratory_rate\": {\"value\": 22, \"unit\": \"breaths/min\"}, \"glucose_level\": {\"value\": 92, \"unit\": \"mg/dL\"}}}'}\n",
      "{'ID': 211, 'Note': \"**Clinical Notes:**\\n\\n**Patient Information:**\\n- **Age:** 32\\n- **Gender:** Male\\n\\n**Visit Motivation:**\\n- Patient presents with complaints suggestive of pneumonia.\\n\\n**Symptoms:**\\n- The patient reports experiencing fever, cough, shortness of breath, chest pain, fatigue, headache, nausea, runny nose, sore throat, joint pain, dizziness, itchy eyes, blurred vision, and painful urination.\\n\\n**Vital Signs:**\\n- **Temperature:** 38.2°C (high; normal range is 37.8-39.4°C)\\n- **Heart Rate:** 90 bpm (normal range is 60-100 bpm)\\n- **Respiratory Rate:** 24 breaths/min (within normal range)\\n- **Glucose Level:** 85 mg/dL (low; normal range is 70-110 mg/dL)\\n\\n**Assessment:**\\nThe patient’s high fever, cough, shortness of breath, and chest pain are indicative of acute pneumonia. The presence of joint pain, dizziness, itchy eyes, blurred vision, and painful urination may suggest a systemic involvement or possible viral etiology. The low glucose level warrants further investigation into possible underlying diabetes or metabolic issues.\\n\\n**Plan:**\\n- Conduct further diagnostic tests including chest X-ray, blood work, and possibly a CT scan to confirm the diagnosis of pneumonia.\\n- Prescribe antibiotics for treatment of acute pneumonia.\\n- Educate the patient on hydration and symptom management.\\n- Schedule a follow-up appointment to reassess symptoms, vital signs, and results of diagnostic tests.\", 'json': '{\"patient_info\": {\"age\": 32, \"gender\": \"Male\"}, \"visit_motivation\": \"Pneumonia\", \"symptoms\": [\"fever\", \"cough\", \"shortness_of_breath\", \"chest_pain\", \"fatigue\", \"headache\", \"nausea\", \"runny_nose\", \"sore_throat\", \"joint_pain\", \"dizziness\", \"itchy_eyes\", \"blurred_vision\", \"painful_urination\"], \"vital_signs\": {\"temperature\": {\"value\": 38.2, \"unit\": \"\\\\u00b0C\"}, \"heart_rate\": {\"value\": 90, \"unit\": \"bpm\"}, \"respiratory_rate\": {\"value\": 24, \"unit\": \"breaths/min\"}, \"glucose_level\": {\"value\": 85, \"unit\": \"mg/dL\"}}}'}\n",
      "{'ID': 342, 'Note': \"**Clinical Notes:**\\n\\n**Patient Information:**\\n- **Age:** 19\\n- **Gender:** Female\\n\\n**Visit Motivation:**\\n- Patient presents with complaints suggestive of viral upper respiratory tract infection.\\n\\n**Symptoms:**\\n- The patient reports experiencing fever, sore throat, runny nose, cough, fatigue, headache, and general malaise.\\n\\n**Vital Signs:**\\n- **Temperature:** 38.5°C (high; normal range is 37.8-39.4°C)\\n- **Heart Rate:** 70 bpm (normal range is 60-100 bpm)\\n- **Respiratory Rate:** 18 breaths/min (within normal range)\\n- **Glucose Level:** 90 mg/dL (slightly elevated; normal range is 70-110 mg/dL)\\n\\n**Assessment:**\\nThe patient’s high fever, sore throat, and runny nose are indicative of an acute viral upper respiratory tract infection. The presence of fatigue, headache, and general malaise may suggest a systemic involvement.\\n\\n**Plan:**\\n- Prescribe over-the-counter medications for symptom management, such as pain relievers and decongestants.\\n- Recommend hydration and rest to aid in recovery.\\n- Schedule a follow-up appointment to reassess symptoms and vital signs.\", 'json': {\"patient_info\": {\"age\": 19, \"gender\": \"Female\"}, \"visit_motivation\": \"Viral upper respiratory tract infection\", \"symptoms\": [\"fever\", \"sore_throat\", \"runny_nose\", \"cough\", \"fatigue\", \"headache\", \"general_malaise\"], \"vital_signs\": {\"temperature\": {\"value\": 38.5, \"unit\": \"\\u00b0C\"}, \"heart_rate\": {\"value\": 70, \"unit\": \"bpm\"}, \"respiratory_rate\": {\"value\": 18, \"unit\": \"breaths/min\"}, \"glucose_level\": {\"value\": 90, \"unit\": \"mg/dL\"}}}'}\n",
      "```\n"
     ]
    }
   ],
   "source": [
    "response_content = chat_completion.get(\"message\", {}).get(\"content\", \"\")\n",
    "if response_content.strip():\n",
    "    print(\"LLM Response Content:\")\n",
    "    print(response_content)\n",
    "else:\n",
    "    print(\"The response was empty or irrelevant. Retrying with a more specific context...\")"
   ]
  }
 ],
 "metadata": {
  "kernelspec": {
   "display_name": "myenv",
   "language": "python",
   "name": "python3"
  },
  "language_info": {
   "codemirror_mode": {
    "name": "ipython",
    "version": 3
   },
   "file_extension": ".py",
   "mimetype": "text/x-python",
   "name": "python",
   "nbconvert_exporter": "python",
   "pygments_lexer": "ipython3",
   "version": "3.11.0"
  }
 },
 "nbformat": 4,
 "nbformat_minor": 2
}
