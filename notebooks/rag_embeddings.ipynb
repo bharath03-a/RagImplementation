{
 "cells": [
  {
   "cell_type": "code",
   "execution_count": 1,
   "metadata": {},
   "outputs": [],
   "source": [
    "import warnings\n",
    "warnings.filterwarnings(\"ignore\")"
   ]
  },
  {
   "cell_type": "code",
   "execution_count": 4,
   "metadata": {},
   "outputs": [],
   "source": [
    "import pandas as pd\n",
    "import numpy as np\n",
    "\n",
    "from qdrant_client import models, QdrantClient\n",
    "from sentence_transformers import SentenceTransformer"
   ]
  },
  {
   "cell_type": "markdown",
   "metadata": {},
   "source": [
    "### Sentence Transformer\n",
    "\n",
    "Sentence Transformers (a.k.a. SBERT) is the go-to Python module for accessing, using, and training state-of-the-art text and image embedding models. Characteristics of Sentence Transformer (a.k.a bi-encoder) models:\n",
    "\n",
    "1) Calculates a fixed-size vector representation (embedding) given texts or images.\n",
    "2) Embedding calculation is often efficient, embedding similarity calculation is very fast.\n",
    "3) Applicable for a wide range of tasks, such as semantic textual similarity, semantic search, clustering, classification, paraphrase mining, and more.\n",
    "4) Often used as a first step in a two-step retrieval process, where a Cross-Encoder (a.k.a. reranker) model is used to re-rank the top-k results from the bi-encoder.\n",
    "\n",
    "https://sbert.net/index.html\n",
    "\n"
   ]
  },
  {
   "cell_type": "code",
   "execution_count": 5,
   "metadata": {},
   "outputs": [],
   "source": [
    "# creating embedding model from sentence transformer for getting the embeddings of the text\n",
    "\n",
    "txt_embedder = SentenceTransformer(\"all-MiniLM-L6-v2\")"
   ]
  },
  {
   "cell_type": "code",
   "execution_count": 8,
   "metadata": {},
   "outputs": [
    {
     "name": "stdout",
     "output_type": "stream",
     "text": [
      "Embedding model size: 384\n"
     ]
    }
   ],
   "source": [
    "print(f\"Embedding model size: {txt_embedder.get_sentence_embedding_dimension()}\")"
   ]
  },
  {
   "cell_type": "markdown",
   "metadata": {},
   "source": [
    "### Qdrant setup\n",
    "\n",
    "Qdrant (read: quadrant) is a vector similarity search engine and vector database. It provides a production-ready service with a convenient API to store, search, and manage points—vectors with an additional payload Qdrant is tailored to extended filtering support. It makes it useful for all sorts of neural-network or semantic-based matching, faceted search, and other applications."
   ]
  },
  {
   "cell_type": "code",
   "execution_count": 6,
   "metadata": {},
   "outputs": [],
   "source": [
    "# creating the vector database client using qdrant\n",
    "\n",
    "qdrant = QdrantClient(\":memory:\")"
   ]
  },
  {
   "cell_type": "code",
   "execution_count": 11,
   "metadata": {},
   "outputs": [
    {
     "data": {
      "text/plain": [
       "True"
      ]
     },
     "execution_count": 11,
     "metadata": {},
     "output_type": "execute_result"
    }
   ],
   "source": [
    "# creating Qdrant Collection to store the data\n",
    "\n",
    "qdrant.recreate_collection(\n",
    "    collection_name=\"clinical_notes\",\n",
    "    vectors_config=models.VectorParams(\n",
    "        size=txt_embedder.get_sentence_embedding_dimension(),\n",
    "        distance=models.Distance.COSINE\n",
    "    )\n",
    ")"
   ]
  },
  {
   "cell_type": "markdown",
   "metadata": {},
   "source": [
    "### Data Loading"
   ]
  },
  {
   "cell_type": "code",
   "execution_count": 12,
   "metadata": {},
   "outputs": [],
   "source": [
    "notes_data = pd.read_csv(\"../data/train.csv\")"
   ]
  },
  {
   "cell_type": "code",
   "execution_count": 13,
   "metadata": {},
   "outputs": [
    {
     "name": "stdout",
     "output_type": "stream",
     "text": [
      "<class 'pandas.core.frame.DataFrame'>\n",
      "RangeIndex: 10822 entries, 0 to 10821\n",
      "Data columns (total 3 columns):\n",
      " #   Column  Non-Null Count  Dtype \n",
      "---  ------  --------------  ----- \n",
      " 0   ID      10822 non-null  int64 \n",
      " 1   Note    10822 non-null  object\n",
      " 2   json    10822 non-null  object\n",
      "dtypes: int64(1), object(2)\n",
      "memory usage: 253.8+ KB\n"
     ]
    }
   ],
   "source": [
    "notes_data.info()"
   ]
  },
  {
   "cell_type": "code",
   "execution_count": 14,
   "metadata": {},
   "outputs": [
    {
     "data": {
      "text/plain": [
       "ID      0\n",
       "Note    0\n",
       "json    0\n",
       "dtype: int64"
      ]
     },
     "execution_count": 14,
     "metadata": {},
     "output_type": "execute_result"
    }
   ],
   "source": [
    "notes_data.isnull().sum()"
   ]
  },
  {
   "cell_type": "code",
   "execution_count": 15,
   "metadata": {},
   "outputs": [
    {
     "data": {
      "text/plain": [
       "np.int64(0)"
      ]
     },
     "execution_count": 15,
     "metadata": {},
     "output_type": "execute_result"
    }
   ],
   "source": [
    "notes_data.duplicated().sum()"
   ]
  },
  {
   "cell_type": "code",
   "execution_count": 16,
   "metadata": {},
   "outputs": [],
   "source": [
    "rag_notes = notes_data.sample(1000).to_dict(\"records\")"
   ]
  },
  {
   "cell_type": "code",
   "execution_count": 17,
   "metadata": {},
   "outputs": [
    {
     "name": "stdout",
     "output_type": "stream",
     "text": [
      "Length of the data : 1000\n"
     ]
    }
   ],
   "source": [
    "print(f\"Length of the data : {len(rag_notes)}\")"
   ]
  },
  {
   "cell_type": "markdown",
   "metadata": {},
   "source": [
    "### Vectorize"
   ]
  },
  {
   "cell_type": "code",
   "execution_count": 22,
   "metadata": {},
   "outputs": [],
   "source": [
    "qdrant.upload_points(\n",
    "    collection_name=\"clinical_notes\",\n",
    "    points=[\n",
    "        models.PointStruct(\n",
    "            id=d[\"ID\"],\n",
    "            vector=txt_embedder.encode(d[\"Note\"]).tolist(),\n",
    "            payload=d\n",
    "        ) for d in rag_notes\n",
    "    ]\n",
    ")"
   ]
  },
  {
   "cell_type": "code",
   "execution_count": 24,
   "metadata": {},
   "outputs": [],
   "source": [
    "search_prompt = \"Suggest me a medication for fever\""
   ]
  },
  {
   "cell_type": "code",
   "execution_count": 25,
   "metadata": {},
   "outputs": [],
   "source": [
    "# searching for some clinical suggestions\n",
    "\n",
    "hits = qdrant.search(\n",
    "    collection_name=\"clinical_notes\",\n",
    "    query_vector=txt_embedder.encode(search_prompt).tolist(),\n",
    "    # query_filter=,\n",
    "    limit=3\n",
    ")"
   ]
  },
  {
   "cell_type": "code",
   "execution_count": 30,
   "metadata": {},
   "outputs": [
    {
     "name": "stdout",
     "output_type": "stream",
     "text": [
      "{'ID': 823, 'Note': '**Clinical Notes:**\\n\\n**Patient Information:**\\n- Age: 88 years\\n- Gender: Male\\n\\n**Visit Motivation:**\\n- Patient presents with concerns related to influenza (Flu).\\n\\n**Symptoms:**\\n- Fever: 39.8°C (higher than normal range, indicating a significant febrile response)\\n- Cough\\n- Fatigue\\n- Headache\\n- Vomiting\\n- Diarrhea\\n- Runny nose\\n- Rash\\n- Increased thirst\\n- Heartburn\\n- Restlessness\\n\\n**Vital Signs:**\\n- Temperature: 39.8°C (febrile)\\n- Cholesterol Level: 162.2 mg/dL (within normal range)\\n- Glucose Level: 105.7 mg/dL (slightly elevated, but not critically high)\\n\\n**Assessment:**\\nThe patient is an 88-year-old male presenting with a variety of symptoms consistent with a viral infection, particularly influenza. The high fever suggests a significant immune response, potentially indicating a severe case of influenza or another viral infection. The presence of gastrointestinal symptoms (vomiting and diarrhea) alongside respiratory symptoms (cough, runny nose) may suggest a more complex viral infection or a secondary infection.\\n\\nThe patient’s elevated temperature is concerning, especially given his age, which places him at higher risk for complications. The increased thirst may indicate dehydration due to vomiting and diarrhea. The restlessness could be a sign of discomfort or anxiety related to his current condition.\\n\\n**Plan:**\\n- Initiate hydration therapy to address potential dehydration.\\n- Consider antiviral therapy if influenza is confirmed.\\n- Monitor vital signs closely, especially temperature and hydration status.\\n- Conduct further tests if symptoms persist or worsen, including a complete blood count (CBC) and possibly a chest X-ray to rule out pneumonia or other complications.\\n- Provide symptomatic treatment for cough and fever as needed.\\n\\n**Follow-Up:**\\n- Schedule a follow-up appointment within a week or sooner if symptoms worsen.', 'json': '{\"patient_info\": {\"age\": 88, \"gender\": \"Male\"}, \"visit_motivation\": \"Influenza (Flu)\", \"symptoms\": [\"fever\", \"cough\", \"fatigue\", \"headache\", \"vomiting\", \"diarrhea\", \"runny_nose\", \"rash\", \"increased_thirst\", \"heartburn\", \"restlessness\"], \"vital_signs\": {\"temperature\": {\"value\": 39.8, \"unit\": \"\\\\u00b0C\"}, \"cholesterol_level\": {\"value\": 162.2, \"unit\": \"mg/dL\"}, \"glucose_level\": {\"value\": 105.7, \"unit\": \"mg/dL\"}}}'} score: 0.4979913270763278\n",
      "{'ID': 10250, 'Note': '**Clinical Notes**\\n\\n**Patient Information:**\\nAge: 37 years\\nGender: Female\\n\\n**Chief Complaint:**\\nPatient presents with symptoms consistent with Influenza (Flu), including fever, cough, fatigue, sore throat, increased thirst, frequent urination, ear pain, sadness, and difficulty concentrating.\\n\\n**Medical History:**\\nPatient has no reported history of chronic medical conditions, but does report a history of occasional episodes of depression and anxiety.\\n\\n**Vital Signs:**\\n\\n* Blood Pressure: 105/78 mmHg (within normal range)\\n* Temperature: 38.9°C (elevated, indicating fever)\\n* Respiratory Rate: 18 breaths/min (within normal range)\\n* Cholesterol Level: 144.1 mg/dL (mildly elevated, but not significantly contributing to current presentation)\\n\\n**Symptoms:**\\n\\n* Fever: Patient reports a subjective fever, confirmed by temperature of 38.9°C.\\n* Cough: Patient reports a persistent cough, likely secondary to influenza infection.\\n* Fatigue: Patient reports feeling extremely tired and lacking energy.\\n* Sore Throat: Patient reports a sore throat, likely secondary to influenza infection.\\n* Increased Thirst: Patient reports increased thirst, likely secondary to fever and dehydration.\\n* Frequent Urination: Patient reports frequent urination, possibly related to increased fluid intake.\\n* Ear Pain: Patient reports ear pain, possibly related to Eustachian tube dysfunction secondary to influenza infection.\\n* Sadness: Patient reports feeling sad and overwhelmed, possibly related to underlying depression and anxiety.\\n* Difficulty Concentrating: Patient reports difficulty concentrating, possibly related to fatigue and underlying depression and anxiety.\\n\\n**Assessment and Plan:**\\n\\n* Diagnosis: Influenza (Flu) with complications of dehydration and possible secondary ear infection.\\n* Plan: Patient will be treated with antiviral medication, hydration, and supportive care. Patient will also be referred to a mental health professional for evaluation and management of underlying depression and anxiety.', 'json': '{\"patient_info\": {\"age\": 37, \"gender\": \"Female\"}, \"visit_motivation\": \"Influenza (Flu)\", \"symptoms\": [\"fever\", \"cough\", \"fatigue\", \"sore_throat\", \"increased_thirst\", \"frequent_urination\", \"ear_pain\", \"sadness\", \"difficulty_concentrating\"], \"vital_signs\": {\"blood_pressure\": {\"systolic\": {\"value\": 105, \"unit\": \"mmHg\"}, \"diastolic\": {\"value\": 78, \"unit\": \"mmHg\"}}, \"temperature\": {\"value\": 38.9, \"unit\": \"\\\\u00b0C\"}, \"respiratory_rate\": {\"value\": 18, \"unit\": \"breaths/min\"}, \"cholesterol_level\": {\"value\": 144.1, \"unit\": \"mg/dL\"}}}'} score: 0.4768768453711423\n",
      "{'ID': 7772, 'Note': \"**Clinical Notes:**\\n\\n**Patient Information:**\\n- Age: 84 years\\n- Gender: Male\\n\\n**Visit Motivation:**\\n- Patient presents with symptoms consistent with influenza (Flu).\\n\\n**Symptoms:**\\n- Fever\\n- Cough\\n- Fatigue\\n- Headache\\n- Sore throat\\n- Difficulty breathing\\n- Increased thirst\\n- Heartburn\\n- Dry skin\\n\\n**Vital Signs:**\\n- Temperature: 39.1°C (elevated, indicating fever)\\n- Heart Rate: 105 bpm (tachycardic)\\n- Respiratory Rate: 18 breaths/min (within normal range)\\n- Cholesterol Level: 125.3 mg/dL (within normal range)\\n- Glucose Level: 136.9 mg/dL (elevated, suggestive of possible hyperglycemia)\\n\\n**Assessment:**\\nThe patient is an 84-year-old male presenting with classic symptoms of influenza, including fever, cough, fatigue, headache, sore throat, and difficulty breathing. The elevated temperature of 39.1°C indicates a significant febrile response. The heart rate of 105 bpm suggests tachycardia, which may be a response to fever and possible dehydration given the increased thirst reported by the patient. \\n\\nThe patient's glucose level of 136.9 mg/dL is elevated, which may indicate underlying metabolic issues such as prediabetes or uncontrolled diabetes, especially in the context of acute illness. Additionally, dry skin and heartburn may suggest dehydration or gastrointestinal involvement, potentially complicating the clinical picture. \\n\\n**Plan:**\\n1. Further evaluation of respiratory status due to reported difficulty breathing.\\n2. Encourage adequate hydration and monitor fluid intake.\\n3. Consider management of glucose levels and review dietary habits.\\n4. Initiate symptomatic treatment for influenza, including antipyretics and cough suppressants as needed.\\n5. Schedule follow-up to reassess symptoms, especially respiratory function and glucose levels. \\n\\n**Note:** Given the patient's age and presenting symptoms, close monitoring for potential complications is warranted.\", 'json': '{\"patient_info\": {\"age\": 84, \"gender\": \"Male\"}, \"visit_motivation\": \"Influenza (Flu)\", \"symptoms\": [\"fever\", \"cough\", \"fatigue\", \"headache\", \"sore_throat\", \"difficulty_breathing\", \"increased_thirst\", \"heartburn\", \"dry_skin\"], \"vital_signs\": {\"temperature\": {\"value\": 39.1, \"unit\": \"\\\\u00b0C\"}, \"heart_rate\": {\"value\": 105, \"unit\": \"bpm\"}, \"respiratory_rate\": {\"value\": 18, \"unit\": \"breaths/min\"}, \"cholesterol_level\": {\"value\": 125.3, \"unit\": \"mg/dL\"}, \"glucose_level\": {\"value\": 136.9, \"unit\": \"mg/dL\"}}}'} score: 0.4738503920749372\n"
     ]
    }
   ],
   "source": [
    "for hit in hits:\n",
    "  print(hit.payload, \"score:\", hit.score)"
   ]
  }
 ],
 "metadata": {
  "kernelspec": {
   "display_name": "myenv",
   "language": "python",
   "name": "python3"
  },
  "language_info": {
   "codemirror_mode": {
    "name": "ipython",
    "version": 3
   },
   "file_extension": ".py",
   "mimetype": "text/x-python",
   "name": "python",
   "nbconvert_exporter": "python",
   "pygments_lexer": "ipython3",
   "version": "3.11.0"
  }
 },
 "nbformat": 4,
 "nbformat_minor": 2
}
