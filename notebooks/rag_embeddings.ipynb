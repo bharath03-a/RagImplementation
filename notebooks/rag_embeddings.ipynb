{
 "cells": [
  {
   "cell_type": "code",
   "execution_count": 1,
   "metadata": {},
   "outputs": [],
   "source": [
    "import warnings\n",
    "warnings.filterwarnings(\"ignore\")"
   ]
  },
  {
   "cell_type": "code",
   "execution_count": 2,
   "metadata": {},
   "outputs": [],
   "source": [
    "import pandas as pd\n",
    "import numpy as np\n",
    "\n",
    "from qdrant_client import models, QdrantClient\n",
    "from sentence_transformers import SentenceTransformer"
   ]
  },
  {
   "cell_type": "markdown",
   "metadata": {},
   "source": [
    "### Sentence Transformer\n",
    "\n",
    "Sentence Transformers (a.k.a. SBERT) is the go-to Python module for accessing, using, and training state-of-the-art text and image embedding models. Characteristics of Sentence Transformer (a.k.a bi-encoder) models:\n",
    "\n",
    "1) Calculates a fixed-size vector representation (embedding) given texts or images.\n",
    "2) Embedding calculation is often efficient, embedding similarity calculation is very fast.\n",
    "3) Applicable for a wide range of tasks, such as semantic textual similarity, semantic search, clustering, classification, paraphrase mining, and more.\n",
    "4) Often used as a first step in a two-step retrieval process, where a Cross-Encoder (a.k.a. reranker) model is used to re-rank the top-k results from the bi-encoder.\n",
    "\n",
    "https://sbert.net/index.html\n",
    "\n"
   ]
  },
  {
   "cell_type": "code",
   "execution_count": 3,
   "metadata": {},
   "outputs": [],
   "source": [
    "# creating embedding model from sentence transformer for getting the embeddings of the text\n",
    "\n",
    "txt_embedder = SentenceTransformer(\"all-MiniLM-L6-v2\")"
   ]
  },
  {
   "cell_type": "code",
   "execution_count": 4,
   "metadata": {},
   "outputs": [
    {
     "name": "stdout",
     "output_type": "stream",
     "text": [
      "Embedding model size: 384\n"
     ]
    }
   ],
   "source": [
    "print(f\"Embedding model size: {txt_embedder.get_sentence_embedding_dimension()}\")"
   ]
  },
  {
   "cell_type": "markdown",
   "metadata": {},
   "source": [
    "### Qdrant setup\n",
    "\n",
    "Qdrant (read: quadrant) is a vector similarity search engine and vector database. It provides a production-ready service with a convenient API to store, search, and manage points—vectors with an additional payload Qdrant is tailored to extended filtering support. It makes it useful for all sorts of neural-network or semantic-based matching, faceted search, and other applications."
   ]
  },
  {
   "cell_type": "code",
   "execution_count": 5,
   "metadata": {},
   "outputs": [],
   "source": [
    "# creating the vector database client using qdrant\n",
    "\n",
    "qdrant = QdrantClient(\":memory:\")"
   ]
  },
  {
   "cell_type": "code",
   "execution_count": 6,
   "metadata": {},
   "outputs": [
    {
     "data": {
      "text/plain": [
       "True"
      ]
     },
     "execution_count": 6,
     "metadata": {},
     "output_type": "execute_result"
    }
   ],
   "source": [
    "# creating Qdrant Collection to store the data\n",
    "\n",
    "qdrant.recreate_collection(\n",
    "    collection_name=\"clinical_notes\",\n",
    "    vectors_config=models.VectorParams(\n",
    "        size=txt_embedder.get_sentence_embedding_dimension(),\n",
    "        distance=models.Distance.COSINE\n",
    "    )\n",
    ")"
   ]
  },
  {
   "cell_type": "markdown",
   "metadata": {},
   "source": [
    "### Data Loading"
   ]
  },
  {
   "cell_type": "code",
   "execution_count": 7,
   "metadata": {},
   "outputs": [],
   "source": [
    "notes_data = pd.read_csv(\"../data/train.csv\")"
   ]
  },
  {
   "cell_type": "code",
   "execution_count": 8,
   "metadata": {},
   "outputs": [
    {
     "name": "stdout",
     "output_type": "stream",
     "text": [
      "<class 'pandas.core.frame.DataFrame'>\n",
      "RangeIndex: 10822 entries, 0 to 10821\n",
      "Data columns (total 3 columns):\n",
      " #   Column  Non-Null Count  Dtype \n",
      "---  ------  --------------  ----- \n",
      " 0   ID      10822 non-null  int64 \n",
      " 1   Note    10822 non-null  object\n",
      " 2   json    10822 non-null  object\n",
      "dtypes: int64(1), object(2)\n",
      "memory usage: 253.8+ KB\n"
     ]
    }
   ],
   "source": [
    "notes_data.info()"
   ]
  },
  {
   "cell_type": "code",
   "execution_count": 9,
   "metadata": {},
   "outputs": [
    {
     "data": {
      "text/plain": [
       "ID      0\n",
       "Note    0\n",
       "json    0\n",
       "dtype: int64"
      ]
     },
     "execution_count": 9,
     "metadata": {},
     "output_type": "execute_result"
    }
   ],
   "source": [
    "notes_data.isnull().sum()"
   ]
  },
  {
   "cell_type": "code",
   "execution_count": 10,
   "metadata": {},
   "outputs": [
    {
     "data": {
      "text/plain": [
       "np.int64(0)"
      ]
     },
     "execution_count": 10,
     "metadata": {},
     "output_type": "execute_result"
    }
   ],
   "source": [
    "notes_data.duplicated().sum()"
   ]
  },
  {
   "cell_type": "code",
   "execution_count": 11,
   "metadata": {},
   "outputs": [],
   "source": [
    "rag_notes = notes_data.sample(1000).to_dict(\"records\")"
   ]
  },
  {
   "cell_type": "code",
   "execution_count": 12,
   "metadata": {},
   "outputs": [
    {
     "name": "stdout",
     "output_type": "stream",
     "text": [
      "Length of the data : 1000\n"
     ]
    }
   ],
   "source": [
    "print(f\"Length of the data : {len(rag_notes)}\")"
   ]
  },
  {
   "cell_type": "markdown",
   "metadata": {},
   "source": [
    "### Vectorize"
   ]
  },
  {
   "cell_type": "code",
   "execution_count": 13,
   "metadata": {},
   "outputs": [],
   "source": [
    "qdrant.upload_points(\n",
    "    collection_name=\"clinical_notes\",\n",
    "    points=[\n",
    "        models.PointStruct(\n",
    "            id=d[\"ID\"],\n",
    "            vector=txt_embedder.encode(d[\"Note\"]).tolist(),\n",
    "            payload=d\n",
    "        ) for d in rag_notes\n",
    "    ]\n",
    ")"
   ]
  },
  {
   "cell_type": "code",
   "execution_count": 14,
   "metadata": {},
   "outputs": [],
   "source": [
    "search_prompt = \"I am suffering from fever, suggest what I can do as a remedy in the next two days.\""
   ]
  },
  {
   "cell_type": "code",
   "execution_count": 15,
   "metadata": {},
   "outputs": [],
   "source": [
    "# searching for some clinical suggestions\n",
    "\n",
    "hits = qdrant.search(\n",
    "    collection_name=\"clinical_notes\",\n",
    "    query_vector=txt_embedder.encode(search_prompt).tolist(),\n",
    "    query_filter=models.Filter(\n",
    "        must=[\n",
    "            models.FieldCondition(\n",
    "                key='ID',\n",
    "                range=models.Range(lte=1000))\n",
    "                ]),\n",
    "    limit=3\n",
    ")"
   ]
  },
  {
   "cell_type": "code",
   "execution_count": 16,
   "metadata": {},
   "outputs": [
    {
     "name": "stdout",
     "output_type": "stream",
     "text": [
      "{'ID': 829, 'Note': \"**Clinical Notes**\\n\\nPatient, a 70-year-old female, presents with influenza (flu) symptoms.\\n\\nThe patient reports a fever of 38.5°C, with an increased heart rate of 118 bpm, indicating signs of infection and potential cardiovascular stress. The presence of swollen lymph nodes further supports this, suggesting a possible viral or bacterial etiology. \\n\\nAdditionally, the patient is experiencing fatigue, headache, sore throat, vomiting, diarrhea, loss of taste and smell, weight loss, facial pain, anxiety, and difficulty concentrating. These symptoms collectively point towards a severe case of influenza.\\n\\nNotably, the rash is present on the patient's body, which could be indicative of a secondary bacterial infection or an allergic reaction to the virus.\\n\\nThe low oxygen saturation of 97.2% suggests potential respiratory involvement, possibly indicating pneumonia or bronchitis as a complication of the flu.\\n\\nGiven these symptoms and vital signs, it appears that this patient requires immediate attention for possible complications related to influenza, including pneumonia or secondary bacterial infection. Further diagnostic testing, such as a chest X-ray or blood work, may be necessary to confirm the diagnosis and guide treatment.\\n\\n**Treatment Plan**\\n\\n* Administer antiviral medication (e.g., oseltamivir) to reduce symptoms and prevent complications.\\n* Provide supportive care for fever, cough, and respiratory distress.\\n* Monitor oxygen saturation and vital signs closely for any signs of deterioration.\\n* Schedule a follow-up appointment to reassess the patient's condition and adjust treatment plan as necessary.\\n\\n**Additional Notes**\\n\\nGiven the patient's age and underlying health conditions (not specified in the provided information), it is essential to consider potential comorbidities, such as chronic obstructive pulmonary disease (COPD), diabetes, or heart disease. A thorough medical history review should be conducted to identify any pre-existing conditions that may impact treatment and prognosis.\\n\\nThe presence of anxiety and difficulty concentrating highlights the importance of addressing mental health concerns alongside physical symptoms. A plan for psychological support, such as counseling or medication, should be explored to ensure optimal patient care.\", 'json': '{\"patient_info\": {\"age\": 70, \"gender\": \"Female\"}, \"visit_motivation\": \"Influenza (Flu)\", \"symptoms\": [\"fever\", \"cough\", \"fatigue\", \"headache\", \"sore_throat\", \"vomiting\", \"diarrhea\", \"rash\", \"loss_of_taste_smell\", \"weight_loss\", \"swollen_lymph_nodes\", \"facial_pain\", \"anxiety\", \"difficulty_concentrating\"], \"vital_signs\": {\"temperature\": {\"value\": 38.5, \"unit\": \"\\\\u00b0C\"}, \"heart_rate\": {\"value\": 118, \"unit\": \"bpm\"}, \"oxygen_saturation\": {\"value\": 97.2, \"unit\": \"%\"}}}'} score: 0.42901905258311596\n",
      "{'ID': 944, 'Note': 'Clinical Note:\\n\\nPatient: 15-year-old female\\nChief Complaint: Influenza-like symptoms\\n\\nHistory of Present Illness:\\nThe patient, a 15-year-old female, presents to the clinic with complaints of flu-like symptoms. She reports experiencing fever, fatigue, headache, and joint pain. Additionally, the patient mentions frequent urination and dry skin, which are not typical flu symptoms.\\n\\nReview of Systems:\\n- General: Positive for fever and fatigue\\n- Neurological: Positive for headache\\n- Musculoskeletal: Positive for joint pain\\n- Urinary: Frequent urination\\n- Skin: Dry skin\\n\\nPhysical Examination:\\n- Vital Signs:\\n  Temperature: 39.4°C (elevated)\\n  Heart Rate: 122 bpm (tachycardic)\\n  Respiratory Rate: 14 breaths/min (within normal range)\\n- General: Patient appears fatigued and uncomfortable\\n- Skin: Dry, warm to touch\\n- HEENT: No notable abnormalities\\n- Cardiovascular: Tachycardic, regular rhythm, no murmurs\\n- Respiratory: Clear lung sounds bilaterally\\n- Musculoskeletal: No visible joint swelling or redness\\n\\nLaboratory Results:\\n- Cholesterol Level: 135.1 mg/dL (within normal range)\\n- Glucose Level: 138.8 mg/dL (slightly elevated)\\n\\nAssessment and Plan:\\nThe patient presents with symptoms consistent with influenza, including high fever, fatigue, headache, and joint pain. However, the presence of frequent urination, dry skin, and elevated glucose levels raise concern for possible underlying diabetes mellitus. The tachycardia is likely due to the fever and possible dehydration.\\n\\n1. Influenza:\\n   - Recommend rest and increased fluid intake\\n   - Prescribe oseltamivir (Tamiflu) for antiviral treatment\\n   - Advise on over-the-counter pain relievers and fever reducers\\n\\n2. Possible Diabetes Mellitus:\\n   - Order fasting blood glucose and HbA1c tests\\n   - Educate patient on signs and symptoms of diabetes\\n   - Schedule follow-up appointment to discuss results and potential management\\n\\n3. Dehydration:\\n   - Encourage oral rehydration\\n   - Educate on importance of fluid intake, especially during illness\\n\\n4. Follow-up:\\n   - Schedule appointment in 1 week to reassess symptoms and review lab results\\n   - Instruct patient to return sooner if symptoms worsen or new symptoms develop\\n\\nThe patient and family were counseled on the assessment and plan. All questions were answered, and they verbalized understanding.', 'json': '{\"patient_info\": {\"age\": 15, \"gender\": \"Female\"}, \"visit_motivation\": \"Influenza (Flu)\", \"symptoms\": [\"fever\", \"fatigue\", \"headache\", \"joint_pain\", \"frequent_urination\", \"dry_skin\"], \"vital_signs\": {\"temperature\": {\"value\": 39.4, \"unit\": \"\\\\u00b0C\"}, \"heart_rate\": {\"value\": 122, \"unit\": \"bpm\"}, \"respiratory_rate\": {\"value\": 14, \"unit\": \"breaths/min\"}, \"cholesterol_level\": {\"value\": 135.1, \"unit\": \"mg/dL\"}, \"glucose_level\": {\"value\": 138.8, \"unit\": \"mg/dL\"}}}'} score: 0.41005932701022824\n",
      "{'ID': 735, 'Note': \"**Clinical Note**\\n\\n**Patient Information:**\\n- Age: 59 years old\\n- Gender: Male\\n\\n**Reason for Visit:** Pneumonia\\n\\n**History of Present Illness:**\\nThe patient presents with a chief complaint of pneumonia. He reports having had fever, cough, and significant difficulty breathing for the past few days. Additionally, he has been experiencing chest pain, increased thirst, night sweats, and dry skin.\\n\\n**Past Medical History:**\\n- No significant past medical history provided.\\n- No known allergies or prior surgeries noted.\\n\\n**Social History:**\\n- Tobacco use: Unknown\\n- Alcohol use: Unknown\\n- Occupational exposure: Unknown\\n\\n**Review of Systems:**\\n- The patient reports fever (temperature: 38.6°C), productive cough, and difficulty breathing (respiratory rate: 28 breaths/min).\\n- He also mentions chest pain, which could indicate complications such as pleurisy.\\n- Increased thirst may be related to dehydration from fever or increased respiratory effort.\\n- Night sweats are likely secondary to the febrile illness but warrant further evaluation for other potential causes.\\n- Dry skin is noted and could be secondary to fever-induced dehydration.\\n\\n**Vital Signs:**\\n- Blood pressure: 118/62 mmHg (normotensive)\\n- Temperature: 38.6°C (feverish, indicative of infection)\\n- Respiratory rate: 28 breaths/min (elevated, indicative of respiratory distress)\\n- Oxygen saturation: 88.4% (hypoxemic, indicating inadequate oxygenation)\\n- Glucose level: 139.4 mg/dL (elevated, but not diagnostic of diabetes mellitus)\\n\\n**Physical Examination:**\\n- General: The patient appears ill and fatigued.\\n- Vital Signs: As noted above.\\n- HEENT: Not examined in detail due to respiratory distress.\\n- Lungs: Auscultation reveals crackles bilaterally. Respiratory effort is labored with use of accessory muscles.\\n\\n**Assessment:**\\nThe patient's symptoms, including fever, cough, difficulty breathing, and chest pain, are consistent with pneumonia. The elevated respiratory rate (28 breaths/min) and hypoxemia (oxygen saturation: 88.4%) strongly support this diagnosis. Additionally, the dry skin and increased thirst could be secondary to dehydration from fever.\\n\\nThe slightly elevated glucose level may warrant further evaluation for diabetes mellitus or stress hyperglycemia related to the current illness.\\n\\n**Plan:**\\n1. **Imaging:** Chest X-ray to confirm pneumonia.\\n2. **Laboratory Tests:** Complete blood count (CBC), C-reactive protein (CRP), and sputum culture to identify causative organisms.\\n3. **Treatment:** Initiate broad-spectrum antibiotics such as amoxicillin-clavulanate, pending culture results. Consider supplemental oxygen if hypoxemia persists.\\n4. **Supportive Care:** IV fluids for hydration and close monitoring of vital signs.\\n\\n**Follow-Up:**\\n- Reassess patient in 24 hours or sooner based on clinical status.\\n- Continue to monitor respiratory function and fever pattern.\\n\\n**Diagnosis:**\\n- Pneumonia with hypoxemia and suspected respiratory distress syndrome.\\n- Elevated glucose level may warrant further investigation for diabetes mellitus. \\n\\n**Sign-off:** Dr. [Your Name], MD\", 'json': '{\"patient_info\": {\"age\": 59, \"gender\": \"Male\"}, \"visit_motivation\": \"Pneumonia\", \"symptoms\": [\"fever\", \"cough\", \"difficulty_breathing\", \"chest_pain\", \"increased_thirst\", \"night_sweats\", \"dry_skin\"], \"vital_signs\": {\"blood_pressure\": {\"systolic\": {\"value\": 118, \"unit\": \"mmHg\"}, \"diastolic\": {\"value\": 62, \"unit\": \"mmHg\"}}, \"temperature\": {\"value\": 38.6, \"unit\": \"\\\\u00b0C\"}, \"respiratory_rate\": {\"value\": 28, \"unit\": \"breaths/min\"}, \"oxygen_saturation\": {\"value\": 88.4, \"unit\": \"%\"}, \"glucose_level\": {\"value\": 139.4, \"unit\": \"mg/dL\"}}}'} score: 0.37680076428081377\n"
     ]
    }
   ],
   "source": [
    "for hit in hits:\n",
    "  print(hit.payload, \"score:\", hit.score)"
   ]
  },
  {
   "cell_type": "markdown",
   "metadata": {},
   "source": [
    "### Integrating RAG with LLAMA"
   ]
  },
  {
   "cell_type": "code",
   "execution_count": 17,
   "metadata": {},
   "outputs": [],
   "source": [
    "# defining the search results\n",
    "search_results = [hit.payload for hit in hits]"
   ]
  },
  {
   "cell_type": "code",
   "execution_count": 18,
   "metadata": {},
   "outputs": [],
   "source": [
    "assistant_content = (\n",
    "    \"Based on the search results, here is some information:\\n\" +\n",
    "    \"\\n\".join([str(item) for item in search_results])\n",
    ")"
   ]
  },
  {
   "cell_type": "code",
   "execution_count": 19,
   "metadata": {},
   "outputs": [],
   "source": [
    "import ollama"
   ]
  },
  {
   "cell_type": "code",
   "execution_count": 20,
   "metadata": {},
   "outputs": [],
   "source": [
    "chat_completion = ollama.chat(\n",
    "    model=\"llama3.2:latest\",\n",
    "    messages=[\n",
    "        {\"role\": \"system\", \"content\": \"You are a chatbt, a clinical notes specialist. Your top priority is to help users into understanding their condition and provide necessary medication and suggestions.\"},\n",
    "        {\"role\": \"user\", \"content\": \"I am suffering from fever, suggest what I can do as a remedy in the next two days.\"},\n",
    "        {\"role\": \"assistant\", \"content\": assistant_content}\n",
    "    ]\n",
    ")"
   ]
  },
  {
   "cell_type": "code",
   "execution_count": 21,
   "metadata": {},
   "outputs": [
    {
     "name": "stdout",
     "output_type": "stream",
     "text": [
      "LLM Response Content:\n",
      "}\n",
      "```\n",
      "\n",
      "The provided logs contain medical records of patients with various conditions such as pneumonia, fever, and respiratory distress. The data includes patient demographics, symptoms, laboratory results, and treatment plans.\n",
      "\n",
      "To analyze this data, we can use various techniques such as natural language processing (NLP) to extract relevant information, machine learning algorithms to identify patterns and predict outcomes, and data visualization tools to present the findings in a clear and concise manner.\n",
      "\n",
      "Some potential analysis tasks that can be performed on this data include:\n",
      "\n",
      "1.  **Symptom severity scoring**: Develop a scoring system to quantify the severity of symptoms such as fever, cough, and difficulty breathing.\n",
      "2.  **Treatment effectiveness assessment**: Analyze the treatment plans and assess their effectiveness in managing patient conditions.\n",
      "3.  **Predicting patient outcomes**: Use machine learning algorithms to predict patient outcomes based on historical data and symptom patterns.\n",
      "4.  **Identifying high-risk patients**: Develop a predictive model to identify patients at high risk of developing severe complications or requiring hospitalization.\n",
      "5.  **Analyzing laboratory results**: Examine the trends and correlations in laboratory results, such as white blood cell count, creatinine levels, and electrolyte imbalances.\n",
      "\n",
      "To accomplish these tasks, we can leverage various libraries and frameworks such as:\n",
      "\n",
      "*   **Natural Language Toolkit (NLTK)**: For NLP tasks such as text preprocessing, sentiment analysis, and entity extraction.\n",
      "*   **Scikit-learn**: For machine learning algorithms such as clustering, classification, regression, and neural networks.\n",
      "*   **Matplotlib** and **Seaborn**: For data visualization and presentation of findings.\n",
      "\n",
      "By applying these techniques and tools to the provided medical records, we can gain valuable insights into patient conditions, treatment outcomes, and potential areas for improvement in healthcare services.\n"
     ]
    }
   ],
   "source": [
    "response_content = chat_completion.get(\"message\", {}).get(\"content\", \"\")\n",
    "\n",
    "print(\"LLM Response Content:\")\n",
    "print(response_content)"
   ]
  }
 ],
 "metadata": {
  "kernelspec": {
   "display_name": "myenv",
   "language": "python",
   "name": "python3"
  },
  "language_info": {
   "codemirror_mode": {
    "name": "ipython",
    "version": 3
   },
   "file_extension": ".py",
   "mimetype": "text/x-python",
   "name": "python",
   "nbconvert_exporter": "python",
   "pygments_lexer": "ipython3",
   "version": "3.11.0"
  }
 },
 "nbformat": 4,
 "nbformat_minor": 2
}
