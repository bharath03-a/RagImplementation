{
 "cells": [
  {
   "cell_type": "code",
   "execution_count": 1,
   "metadata": {},
   "outputs": [],
   "source": [
    "import warnings\n",
    "warnings.filterwarnings(\"ignore\")"
   ]
  },
  {
   "cell_type": "code",
   "execution_count": 32,
   "metadata": {},
   "outputs": [],
   "source": [
    "import pandas as pd\n",
    "import numpy as np\n",
    "\n",
    "from qdrant_client import models, QdrantClient\n",
    "from sentence_transformers import SentenceTransformer"
   ]
  },
  {
   "cell_type": "markdown",
   "metadata": {},
   "source": [
    "### Sentence Transformer\n",
    "\n",
    "Sentence Transformers (a.k.a. SBERT) is the go-to Python module for accessing, using, and training state-of-the-art text and image embedding models. Characteristics of Sentence Transformer (a.k.a bi-encoder) models:\n",
    "\n",
    "1) Calculates a fixed-size vector representation (embedding) given texts or images.\n",
    "2) Embedding calculation is often efficient, embedding similarity calculation is very fast.\n",
    "3) Applicable for a wide range of tasks, such as semantic textual similarity, semantic search, clustering, classification, paraphrase mining, and more.\n",
    "4) Often used as a first step in a two-step retrieval process, where a Cross-Encoder (a.k.a. reranker) model is used to re-rank the top-k results from the bi-encoder.\n",
    "\n",
    "https://sbert.net/index.html\n",
    "\n"
   ]
  },
  {
   "cell_type": "code",
   "execution_count": 5,
   "metadata": {},
   "outputs": [],
   "source": [
    "# creating embedding model from sentence transformer for getting the embeddings of the text\n",
    "\n",
    "txt_embedder = SentenceTransformer(\"all-MiniLM-L6-v2\")"
   ]
  },
  {
   "cell_type": "code",
   "execution_count": 8,
   "metadata": {},
   "outputs": [
    {
     "name": "stdout",
     "output_type": "stream",
     "text": [
      "Embedding model size: 384\n"
     ]
    }
   ],
   "source": [
    "print(f\"Embedding model size: {txt_embedder.get_sentence_embedding_dimension()}\")"
   ]
  },
  {
   "cell_type": "markdown",
   "metadata": {},
   "source": [
    "### Qdrant setup\n",
    "\n",
    "Qdrant (read: quadrant) is a vector similarity search engine and vector database. It provides a production-ready service with a convenient API to store, search, and manage points—vectors with an additional payload Qdrant is tailored to extended filtering support. It makes it useful for all sorts of neural-network or semantic-based matching, faceted search, and other applications."
   ]
  },
  {
   "cell_type": "code",
   "execution_count": 6,
   "metadata": {},
   "outputs": [],
   "source": [
    "# creating the vector database client using qdrant\n",
    "\n",
    "qdrant = QdrantClient(\":memory:\")"
   ]
  },
  {
   "cell_type": "code",
   "execution_count": 11,
   "metadata": {},
   "outputs": [
    {
     "data": {
      "text/plain": [
       "True"
      ]
     },
     "execution_count": 11,
     "metadata": {},
     "output_type": "execute_result"
    }
   ],
   "source": [
    "# creating Qdrant Collection to store the data\n",
    "\n",
    "qdrant.recreate_collection(\n",
    "    collection_name=\"clinical_notes\",\n",
    "    vectors_config=models.VectorParams(\n",
    "        size=txt_embedder.get_sentence_embedding_dimension(),\n",
    "        distance=models.Distance.COSINE\n",
    "    )\n",
    ")"
   ]
  },
  {
   "cell_type": "markdown",
   "metadata": {},
   "source": [
    "### Data Loading"
   ]
  },
  {
   "cell_type": "code",
   "execution_count": 12,
   "metadata": {},
   "outputs": [],
   "source": [
    "notes_data = pd.read_csv(\"../data/train.csv\")"
   ]
  },
  {
   "cell_type": "code",
   "execution_count": 13,
   "metadata": {},
   "outputs": [
    {
     "name": "stdout",
     "output_type": "stream",
     "text": [
      "<class 'pandas.core.frame.DataFrame'>\n",
      "RangeIndex: 10822 entries, 0 to 10821\n",
      "Data columns (total 3 columns):\n",
      " #   Column  Non-Null Count  Dtype \n",
      "---  ------  --------------  ----- \n",
      " 0   ID      10822 non-null  int64 \n",
      " 1   Note    10822 non-null  object\n",
      " 2   json    10822 non-null  object\n",
      "dtypes: int64(1), object(2)\n",
      "memory usage: 253.8+ KB\n"
     ]
    }
   ],
   "source": [
    "notes_data.info()"
   ]
  },
  {
   "cell_type": "code",
   "execution_count": 14,
   "metadata": {},
   "outputs": [
    {
     "data": {
      "text/plain": [
       "ID      0\n",
       "Note    0\n",
       "json    0\n",
       "dtype: int64"
      ]
     },
     "execution_count": 14,
     "metadata": {},
     "output_type": "execute_result"
    }
   ],
   "source": [
    "notes_data.isnull().sum()"
   ]
  },
  {
   "cell_type": "code",
   "execution_count": 15,
   "metadata": {},
   "outputs": [
    {
     "data": {
      "text/plain": [
       "np.int64(0)"
      ]
     },
     "execution_count": 15,
     "metadata": {},
     "output_type": "execute_result"
    }
   ],
   "source": [
    "notes_data.duplicated().sum()"
   ]
  },
  {
   "cell_type": "code",
   "execution_count": 16,
   "metadata": {},
   "outputs": [],
   "source": [
    "rag_notes = notes_data.sample(1000).to_dict(\"records\")"
   ]
  },
  {
   "cell_type": "code",
   "execution_count": 17,
   "metadata": {},
   "outputs": [
    {
     "name": "stdout",
     "output_type": "stream",
     "text": [
      "Length of the data : 1000\n"
     ]
    }
   ],
   "source": [
    "print(f\"Length of the data : {len(rag_notes)}\")"
   ]
  },
  {
   "cell_type": "markdown",
   "metadata": {},
   "source": [
    "### Vectorize"
   ]
  },
  {
   "cell_type": "code",
   "execution_count": 22,
   "metadata": {},
   "outputs": [],
   "source": [
    "qdrant.upload_points(\n",
    "    collection_name=\"clinical_notes\",\n",
    "    points=[\n",
    "        models.PointStruct(\n",
    "            id=d[\"ID\"],\n",
    "            vector=txt_embedder.encode(d[\"Note\"]).tolist(),\n",
    "            payload=d\n",
    "        ) for d in rag_notes\n",
    "    ]\n",
    ")"
   ]
  },
  {
   "cell_type": "code",
   "execution_count": 24,
   "metadata": {},
   "outputs": [],
   "source": [
    "search_prompt = \"Suggest me a medication for fever\""
   ]
  },
  {
   "cell_type": "code",
   "execution_count": 33,
   "metadata": {},
   "outputs": [],
   "source": [
    "# searching for some clinical suggestions\n",
    "\n",
    "hits = qdrant.search(\n",
    "    collection_name=\"clinical_notes\",\n",
    "    query_vector=txt_embedder.encode(search_prompt).tolist(),\n",
    "    query_filter=models.Filter(\n",
    "        must=[\n",
    "            models.FieldCondition(\n",
    "                key='ID',\n",
    "                range=models.Range(lte=1000))\n",
    "                ]),\n",
    "    limit=3\n",
    ")"
   ]
  },
  {
   "cell_type": "code",
   "execution_count": 34,
   "metadata": {},
   "outputs": [
    {
     "name": "stdout",
     "output_type": "stream",
     "text": [
      "{'ID': 823, 'Note': '**Clinical Notes:**\\n\\n**Patient Information:**\\n- Age: 88 years\\n- Gender: Male\\n\\n**Visit Motivation:**\\n- Patient presents with concerns related to influenza (Flu).\\n\\n**Symptoms:**\\n- Fever: 39.8°C (higher than normal range, indicating a significant febrile response)\\n- Cough\\n- Fatigue\\n- Headache\\n- Vomiting\\n- Diarrhea\\n- Runny nose\\n- Rash\\n- Increased thirst\\n- Heartburn\\n- Restlessness\\n\\n**Vital Signs:**\\n- Temperature: 39.8°C (febrile)\\n- Cholesterol Level: 162.2 mg/dL (within normal range)\\n- Glucose Level: 105.7 mg/dL (slightly elevated, but not critically high)\\n\\n**Assessment:**\\nThe patient is an 88-year-old male presenting with a variety of symptoms consistent with a viral infection, particularly influenza. The high fever suggests a significant immune response, potentially indicating a severe case of influenza or another viral infection. The presence of gastrointestinal symptoms (vomiting and diarrhea) alongside respiratory symptoms (cough, runny nose) may suggest a more complex viral infection or a secondary infection.\\n\\nThe patient’s elevated temperature is concerning, especially given his age, which places him at higher risk for complications. The increased thirst may indicate dehydration due to vomiting and diarrhea. The restlessness could be a sign of discomfort or anxiety related to his current condition.\\n\\n**Plan:**\\n- Initiate hydration therapy to address potential dehydration.\\n- Consider antiviral therapy if influenza is confirmed.\\n- Monitor vital signs closely, especially temperature and hydration status.\\n- Conduct further tests if symptoms persist or worsen, including a complete blood count (CBC) and possibly a chest X-ray to rule out pneumonia or other complications.\\n- Provide symptomatic treatment for cough and fever as needed.\\n\\n**Follow-Up:**\\n- Schedule a follow-up appointment within a week or sooner if symptoms worsen.', 'json': '{\"patient_info\": {\"age\": 88, \"gender\": \"Male\"}, \"visit_motivation\": \"Influenza (Flu)\", \"symptoms\": [\"fever\", \"cough\", \"fatigue\", \"headache\", \"vomiting\", \"diarrhea\", \"runny_nose\", \"rash\", \"increased_thirst\", \"heartburn\", \"restlessness\"], \"vital_signs\": {\"temperature\": {\"value\": 39.8, \"unit\": \"\\\\u00b0C\"}, \"cholesterol_level\": {\"value\": 162.2, \"unit\": \"mg/dL\"}, \"glucose_level\": {\"value\": 105.7, \"unit\": \"mg/dL\"}}}'} score: 0.4979913270763278\n",
      "{'ID': 944, 'Note': 'Clinical Note:\\n\\nPatient: 15-year-old female\\nChief Complaint: Influenza-like symptoms\\n\\nHistory of Present Illness:\\nThe patient, a 15-year-old female, presents to the clinic with complaints of flu-like symptoms. She reports experiencing fever, fatigue, headache, and joint pain. Additionally, the patient mentions frequent urination and dry skin, which are not typical flu symptoms.\\n\\nReview of Systems:\\n- General: Positive for fever and fatigue\\n- Neurological: Positive for headache\\n- Musculoskeletal: Positive for joint pain\\n- Urinary: Frequent urination\\n- Skin: Dry skin\\n\\nPhysical Examination:\\n- Vital Signs:\\n  Temperature: 39.4°C (elevated)\\n  Heart Rate: 122 bpm (tachycardic)\\n  Respiratory Rate: 14 breaths/min (within normal range)\\n- General: Patient appears fatigued and uncomfortable\\n- Skin: Dry, warm to touch\\n- HEENT: No notable abnormalities\\n- Cardiovascular: Tachycardic, regular rhythm, no murmurs\\n- Respiratory: Clear lung sounds bilaterally\\n- Musculoskeletal: No visible joint swelling or redness\\n\\nLaboratory Results:\\n- Cholesterol Level: 135.1 mg/dL (within normal range)\\n- Glucose Level: 138.8 mg/dL (slightly elevated)\\n\\nAssessment and Plan:\\nThe patient presents with symptoms consistent with influenza, including high fever, fatigue, headache, and joint pain. However, the presence of frequent urination, dry skin, and elevated glucose levels raise concern for possible underlying diabetes mellitus. The tachycardia is likely due to the fever and possible dehydration.\\n\\n1. Influenza:\\n   - Recommend rest and increased fluid intake\\n   - Prescribe oseltamivir (Tamiflu) for antiviral treatment\\n   - Advise on over-the-counter pain relievers and fever reducers\\n\\n2. Possible Diabetes Mellitus:\\n   - Order fasting blood glucose and HbA1c tests\\n   - Educate patient on signs and symptoms of diabetes\\n   - Schedule follow-up appointment to discuss results and potential management\\n\\n3. Dehydration:\\n   - Encourage oral rehydration\\n   - Educate on importance of fluid intake, especially during illness\\n\\n4. Follow-up:\\n   - Schedule appointment in 1 week to reassess symptoms and review lab results\\n   - Instruct patient to return sooner if symptoms worsen or new symptoms develop\\n\\nThe patient and family were counseled on the assessment and plan. All questions were answered, and they verbalized understanding.', 'json': '{\"patient_info\": {\"age\": 15, \"gender\": \"Female\"}, \"visit_motivation\": \"Influenza (Flu)\", \"symptoms\": [\"fever\", \"fatigue\", \"headache\", \"joint_pain\", \"frequent_urination\", \"dry_skin\"], \"vital_signs\": {\"temperature\": {\"value\": 39.4, \"unit\": \"\\\\u00b0C\"}, \"heart_rate\": {\"value\": 122, \"unit\": \"bpm\"}, \"respiratory_rate\": {\"value\": 14, \"unit\": \"breaths/min\"}, \"cholesterol_level\": {\"value\": 135.1, \"unit\": \"mg/dL\"}, \"glucose_level\": {\"value\": 138.8, \"unit\": \"mg/dL\"}}}'} score: 0.4509041524229942\n",
      "{'ID': 459, 'Note': \"Clinical Notes:\\n\\nPatient Information:\\n- Age: 90 years old\\n- Gender: Male\\n\\nChief Complaint:\\nThe patient presents with symptoms suggestive of influenza (flu).\\n\\nHistory of Present Illness:\\nThe patient is a 90-year-old male who reports experiencing a fever, cough, fatigue, headache, sore throat, vomiting, diarrhea, joint pain, loss of taste and smell, blurred vision, wheezing, heartburn, and difficulty concentrating. The onset of these symptoms was sudden, and the patient reports that they have been present for several days.\\n\\nVital Signs:\\n- Blood Pressure: 105/76 mmHg\\n- Temperature: 39.8°C (103.6°F) - Elevated\\n- Heart Rate: 129 bpm - Elevated\\n\\nPhysical Examination:\\nThe patient appears acutely ill and is experiencing significant respiratory distress. He is febrile, with a temperature of 39.8°C, and his heart rate is elevated at 129 bpm. The patient's blood pressure is within the normal range, but the elevated temperature and heart rate are concerning. The patient reports experiencing a variety of flu-like symptoms, including fever, cough, fatigue, headache, sore throat, vomiting, diarrhea, joint pain, loss of taste and smell, blurred vision, wheezing, heartburn, and difficulty concentrating.\\n\\nDifferential Diagnosis:\\nBased on the patient's age, presenting symptoms, and vital sign abnormalities, the primary differential diagnosis includes:\\n1. Influenza (flu)\\n2. COVID-19\\n3. Pneumonia\\n4. Dehydration\\n\\nGiven the patient's advanced age and the severity of his symptoms, it is important to consider the possibility of a more serious underlying condition, such as pneumonia or a COVID-19 infection.\\n\\nPlan:\\nThe patient will be admitted for further evaluation and management. Appropriate diagnostic tests, such as a rapid influenza test, COVID-19 test, and chest imaging, will be ordered to confirm the diagnosis and rule out any complications. Supportive care, including fluid resuscitation, antipyretics, and respiratory support as needed, will be provided. The patient's advanced age and the severity of his symptoms warrant close monitoring and a comprehensive treatment plan to ensure the best possible outcome.\", 'json': '{\"patient_info\": {\"age\": 90, \"gender\": \"Male\"}, \"visit_motivation\": \"Influenza (Flu)\", \"symptoms\": [\"fever\", \"cough\", \"fatigue\", \"headache\", \"sore_throat\", \"vomiting\", \"diarrhea\", \"joint_pain\", \"loss_of_taste_smell\", \"blurred_vision\", \"wheezing\", \"heartburn\", \"difficulty_concentrating\"], \"vital_signs\": {\"blood_pressure\": {\"systolic\": {\"value\": 105, \"unit\": \"mmHg\"}, \"diastolic\": {\"value\": 76, \"unit\": \"mmHg\"}}, \"temperature\": {\"value\": 39.8, \"unit\": \"\\\\u00b0C\"}, \"heart_rate\": {\"value\": 129, \"unit\": \"bpm\"}}}'} score: 0.4490116776910523\n"
     ]
    }
   ],
   "source": [
    "for hit in hits:\n",
    "  print(hit.payload, \"score:\", hit.score)"
   ]
  }
 ],
 "metadata": {
  "kernelspec": {
   "display_name": "myenv",
   "language": "python",
   "name": "python3"
  },
  "language_info": {
   "codemirror_mode": {
    "name": "ipython",
    "version": 3
   },
   "file_extension": ".py",
   "mimetype": "text/x-python",
   "name": "python",
   "nbconvert_exporter": "python",
   "pygments_lexer": "ipython3",
   "version": "3.11.0"
  }
 },
 "nbformat": 4,
 "nbformat_minor": 2
}
